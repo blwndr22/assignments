{
  "nbformat": 4,
  "nbformat_minor": 0,
  "metadata": {
    "colab": {
      "provenance": [],
      "authorship_tag": "ABX9TyMPZfvVS85FHvGBGbm4TXuK",
      "include_colab_link": true
    },
    "kernelspec": {
      "name": "python3",
      "display_name": "Python 3"
    },
    "language_info": {
      "name": "python"
    }
  },
  "cells": [
    {
      "cell_type": "markdown",
      "metadata": {
        "id": "view-in-github",
        "colab_type": "text"
      },
      "source": [
        "<a href=\"https://colab.research.google.com/github/blwndr22/assignments/blob/main/Assignment_no_2.ipynb\" target=\"_parent\"><img src=\"https://colab.research.google.com/assets/colab-badge.svg\" alt=\"Open In Colab\"/></a>"
      ]
    },
    {
      "cell_type": "markdown",
      "source": [
        "## **1. What is identation error? Why identation is important? Give one simple example.**"
      ],
      "metadata": {
        "id": "sd5XDvxu3yvH"
      }
    },
    {
      "cell_type": "markdown",
      "source": [
        "Identation error occurs when proper white space is not alloted in code and the importance of identation is, it help the user by interpreting the code that where code is blocked.\n",
        "example :-"
      ],
      "metadata": {
        "id": "4Odaaguu4OK-"
      }
    },
    {
      "cell_type": "code",
      "source": [
        "name = input(\"enter here: \")\n",
        "\n",
        "if name:\n",
        "  print(\"yes it is a string\")\n",
        "else:\n",
        "print(\"its not\")"
      ],
      "metadata": {
        "colab": {
          "base_uri": "https://localhost:8080/",
          "height": 130
        },
        "id": "6bcqergC4NTh",
        "outputId": "7ce424e2-539f-45e5-bf92-e48938980153"
      },
      "execution_count": 3,
      "outputs": [
        {
          "output_type": "error",
          "ename": "IndentationError",
          "evalue": "ignored",
          "traceback": [
            "\u001b[0;36m  File \u001b[0;32m\"<ipython-input-3-1490b1f013ef>\"\u001b[0;36m, line \u001b[0;32m6\u001b[0m\n\u001b[0;31m    print(\"its not\")\u001b[0m\n\u001b[0m    ^\u001b[0m\n\u001b[0;31mIndentationError\u001b[0m\u001b[0;31m:\u001b[0m expected an indented block\n"
          ]
        }
      ]
    },
    {
      "cell_type": "markdown",
      "source": [
        "## **2. Correct the following code and write the comment where you made the correction.\n"
      ],
      "metadata": {
        "id": "YUWxhW5V5usS"
      }
    },
    {
      "cell_type": "code",
      "source": [
        "\n",
        "class_started = bool(input(\"Hey friend, is class started?: [0-False/1-True]\"))\n",
        "\n",
        "  if class_started:\n",
        "      print(\"Since class started...\")\n",
        "      print(\"Lets concentrate\")\n",
        "  else:\n",
        "      print(\"Since class is not started...\")\n",
        "      print(\"let's revise\")    "
      ],
      "metadata": {
        "colab": {
          "base_uri": "https://localhost:8080/",
          "height": 130
        },
        "id": "FzxdMr-36LUB",
        "outputId": "4719e44c-d785-449e-c584-dfa51d3bc193"
      },
      "execution_count": 5,
      "outputs": [
        {
          "output_type": "error",
          "ename": "IndentationError",
          "evalue": "ignored",
          "traceback": [
            "\u001b[0;36m  File \u001b[0;32m\"<ipython-input-5-9154034941c0>\"\u001b[0;36m, line \u001b[0;32m3\u001b[0m\n\u001b[0;31m    if class_started:\u001b[0m\n\u001b[0m    ^\u001b[0m\n\u001b[0;31mIndentationError\u001b[0m\u001b[0;31m:\u001b[0m unexpected indent\n"
          ]
        }
      ]
    },
    {
      "cell_type": "code",
      "source": [
        "class_started = input(\"Hey friend, is class started?: [0-False/1-True]\") #reason behind removing boolean conversation is because an empty input always return true\n",
        "\n",
        "if class_started == \"0\" or class_started == \"False\":    ## added couple of if conditions to check whether its 0 or false \n",
        "  class_started = \"\"              ## conerted class_started to an empty string\n",
        "\n",
        "if class_started:\n",
        "      print(\"Since class started...\")    ## remove couple of white spaces to solve identation error\n",
        "      print(\"Lets concentrate\")\n",
        "else:                                         \n",
        "      print(\"Since class is not started...\")\n",
        "      print(\"let's revise\")    "
      ],
      "metadata": {
        "colab": {
          "base_uri": "https://localhost:8080/"
        },
        "id": "omLLmCgK5Y-t",
        "outputId": "5744a180-a9a2-4452-81fe-ad4b82c66b74"
      },
      "execution_count": 9,
      "outputs": [
        {
          "output_type": "stream",
          "name": "stdout",
          "text": [
            "Hey friend, is class started?: [0-False/1-True]True\n",
            "Since class started...\n",
            "Lets concentrate\n"
          ]
        }
      ]
    },
    {
      "cell_type": "markdown",
      "source": [
        "## **3. Use if else condition to verify the datatype of input() method in python is always string.**"
      ],
      "metadata": {
        "id": "GERnot83AaoV"
      }
    },
    {
      "cell_type": "code",
      "source": [
        "name = input(\"Enter your name here: \")\n",
        "\n",
        "if type(name) == str:\n",
        "  print(type(name))\n",
        "  print(\"\"\"Yes! it's a string\"\"\")\n",
        "\n",
        "else:\n",
        "  print(\"\"\"No! it's not a string\"\"\")"
      ],
      "metadata": {
        "colab": {
          "base_uri": "https://localhost:8080/"
        },
        "id": "4qphFQ0d_JW-",
        "outputId": "8b737cbc-7e27-4150-959e-40b1f6b82c8d"
      },
      "execution_count": 11,
      "outputs": [
        {
          "output_type": "stream",
          "name": "stdout",
          "text": [
            "Enter your name here: Balwinder\n",
            "<class 'str'>\n",
            "Yes! it's a string\n"
          ]
        }
      ]
    },
    {
      "cell_type": "markdown",
      "source": [
        "## **4. Take 3 variables and assign integar value to them. Find the largest variable by only using if else condition.**"
      ],
      "metadata": {
        "id": "Xabhc7oxHESp"
      }
    },
    {
      "cell_type": "code",
      "source": [
        "a = 359\n",
        "b = 345\n",
        "c = 330\n",
        "\n",
        "if a < b:\n",
        "  if b < c:\n",
        "    print(\"C is greater\")\n",
        "  else:\n",
        "   print(\"B is greater\")\n",
        "else:\n",
        "   print(\"A is greater\")"
      ],
      "metadata": {
        "colab": {
          "base_uri": "https://localhost:8080/"
        },
        "id": "8KmbeqJCBv0i",
        "outputId": "a1f3c488-085b-41ca-92c5-098f5ccb81f3"
      },
      "execution_count": 12,
      "outputs": [
        {
          "output_type": "stream",
          "name": "stdout",
          "text": [
            "A is greater\n"
          ]
        }
      ]
    },
    {
      "cell_type": "markdown",
      "source": [
        "## **5. What would be the solution?**\n",
        "\n",
        "True\n",
        "\n",
        "False"
      ],
      "metadata": {
        "id": "KU1W3VLdJFDW"
      }
    },
    {
      "cell_type": "code",
      "source": [
        "    a = 6\n",
        "    b = 10\n",
        "    print( not ( not a == 10 or not b == 10) )"
      ],
      "metadata": {
        "colab": {
          "base_uri": "https://localhost:8080/"
        },
        "id": "CqR_5JSFI8QL",
        "outputId": "a1007992-0d2b-450b-f719-d3403b8aee5c"
      },
      "execution_count": 14,
      "outputs": [
        {
          "output_type": "stream",
          "name": "stdout",
          "text": [
            "False\n"
          ]
        }
      ]
    },
    {
      "cell_type": "markdown",
      "source": [
        "Answer. **False**"
      ],
      "metadata": {
        "id": "5J2y6jbjKHmq"
      }
    },
    {
      "cell_type": "markdown",
      "source": [
        "##6. Find the answer as well as find out the reason behind the result?\n",
        "- case 1"
      ],
      "metadata": {
        "id": "sbcSKeXfKL6W"
      }
    },
    {
      "cell_type": "code",
      "source": [
        " A = 5.\n",
        " B = 10/2\n",
        "print(A is B)\n"
      ],
      "metadata": {
        "id": "Ey0yB5jMKCyx"
      },
      "execution_count": null,
      "outputs": []
    },
    {
      "cell_type": "markdown",
      "source": [
        "- case 2"
      ],
      "metadata": {
        "id": "hHUP_HduLHAX"
      }
    },
    {
      "cell_type": "code",
      "source": [
        "A = 5.0\n",
        "B = int(10/2)\n",
        "print(A is B)"
      ],
      "metadata": {
        "id": "5kCkVXq2Kw8G"
      },
      "execution_count": null,
      "outputs": []
    },
    {
      "cell_type": "markdown",
      "source": [
        "- case 3"
      ],
      "metadata": {
        "id": "tCSKnj8XLfSF"
      }
    },
    {
      "cell_type": "code",
      "source": [
        "A = 5\n",
        "B = float(10/2)\n",
        "print(A is B)"
      ],
      "metadata": {
        "id": "J-LYp4v9LhNE"
      },
      "execution_count": null,
      "outputs": []
    },
    {
      "cell_type": "code",
      "source": [
        "A = 5.\n",
        "B = 10/2\n",
        "print(A is B)"
      ],
      "metadata": {
        "colab": {
          "base_uri": "https://localhost:8080/"
        },
        "id": "76sbpRRXLr1H",
        "outputId": "07fd1456-0578-4015-b99e-da562ee0aaf0"
      },
      "execution_count": 16,
      "outputs": [
        {
          "output_type": "stream",
          "name": "stdout",
          "text": [
            "False\n"
          ]
        }
      ]
    },
    {
      "cell_type": "markdown",
      "source": [
        "### Try to understand the following examples and answer the question based on it - \n",
        "    \n",
        "**Arithmatic Operators**\n",
        "\n",
        "|Operation|Meaning|\n",
        "|:-:|:-:|\n",
        "| **+** |addition|\n",
        "| **-** |subtraction|\n",
        "| **\\*** |multiplication|\n",
        "| **/** |true division|\n",
        "| **//** |integer division|\n",
        "| **%** |the modulo operator|\n",
        "\n",
        "\n",
        "Here `+`, `-`, `*`, `/` are regular arithmatic operators. Lets look at the `//` and `%` operators\n",
        "\n",
        "Usecase or examples - \n",
        "    \n",
        "```python\n",
        "var_a = 5\n",
        "var_b = 25\n",
        "integer_division = var_b // var_a\n",
        "print(f\"integer division: {var_b}/{var_a}={integer_division}\")\n",
        "```\n",
        "\n",
        "OUTPUT: integer division: 25/5=5\n",
        "\n",
        "```python\n",
        "var_a = 3\n",
        "var_b = 25\n",
        "integer_division = var_b // var_a\n",
        "print(f\"integer division: {var_b}/{var_a}={integer_division}\")\n",
        "```\n",
        "\n",
        "OUTPUT: integer division: 25/3=8\n",
        "\n",
        "```python\n",
        "var_a = 5\n",
        "var_b = 25\n",
        "remainder = var_b % var_a\n",
        "print(f\"remainder: {var_b}/{var_a} is {remainder}\")\n",
        "```\n",
        "\n",
        "OUTPUT: remainder: 25/5 is 0\n",
        "\n",
        "```python\n",
        "var_a = 3\n",
        "var_b = 25\n",
        "remainder = var_b % var_a\n",
        "print(f\"remainder: {var_b}/{var_a} is {remainder}\")\n",
        "```\n",
        "\n",
        "OUTPUT: remainder: 25/3 is 1\n",
        "\n"
      ],
      "metadata": {
        "id": "7LYwlLSyeHYC"
      }
    },
    {
      "cell_type": "markdown",
      "source": [
        "\n",
        "## **7. Write a program that asks the user to enter a number. You should print out a message to the user, either “That number is divisible by either 3 or 5”, or “That number is not divisible by either 3 or 5”. Be sure to consider the data type of the input you are taking in from the user. Use a single if/else block to solve this problem.**"
      ],
      "metadata": {
        "id": "AA3XM36ULrYW"
      }
    },
    {
      "cell_type": "code",
      "source": [
        "number = int(input(\"enter an number which is divisble by 3 or 5: \"))\n",
        " \n",
        "if number % 3 == 0 or number == 0:\n",
        "   print(\"The number is divisble by either 3 or 5\")\n",
        "else:\n",
        "  print(\"The number is not divisble by either 3 or 5\")"
      ],
      "metadata": {
        "colab": {
          "base_uri": "https://localhost:8080/"
        },
        "id": "t-dS679recoL",
        "outputId": "e89ce873-0695-4164-cbd7-21ac2fb570ff"
      },
      "execution_count": 2,
      "outputs": [
        {
          "output_type": "stream",
          "name": "stdout",
          "text": [
            "enter an number which is divisble by 3 or 5: 7\n",
            "The number is not divisble by either 3 or 5\n"
          ]
        }
      ]
    },
    {
      "cell_type": "markdown",
      "source": [
        "8. Take user input for length and width. Then calculate the area of rectangle. Also print as per length and width whether its a square of rectangle."
      ],
      "metadata": {
        "id": "eCBiIWupgJ7N"
      }
    },
    {
      "cell_type": "code",
      "source": [
        "length = int(input(\"enter your length here in meters: \"))\n",
        "width = int(input(\"enter your width here in meters: \"))\n",
        "\n",
        "area = length * width\n",
        "\n",
        "if length == width:\n",
        "  print(f\"As the length {length} meters and width {width}meters are same, so it is a square\")\n",
        "else:\n",
        "  print(f\"As the length {length} meters and width {width} meters are not same, so its a rectangle\")"
      ],
      "metadata": {
        "colab": {
          "base_uri": "https://localhost:8080/"
        },
        "id": "FeawvEVTf9nc",
        "outputId": "b8ec7045-1ae2-4990-dd10-1996e2b18486"
      },
      "execution_count": 3,
      "outputs": [
        {
          "output_type": "stream",
          "name": "stdout",
          "text": [
            "enter your length here in meters: 15\n",
            "enter your width here in meters: 22\n",
            "As the length 15 meters and width 22 meters are not same, so its a rectangle\n"
          ]
        }
      ]
    },
    {
      "cell_type": "markdown",
      "source": [
        "\n",
        "## **9. Take two variable radius_1 and radius_2 and calculate the area of circle_1 and circle_2. Also print which circle has large area. If area is equal then print area is equal.**"
      ],
      "metadata": {
        "id": "zFh8WCS5h76K"
      }
    },
    {
      "cell_type": "code",
      "source": [
        "radius_1 = int(input(\"enter the radius of first circle in meters: \"))\n",
        "radius_2 = int(input(\"enter the radius of second circle in metere: \"))\n",
        "\n",
        "area_circle_1 = radius_1 ** 2\n",
        "area_circle_2 = radius_2 ** 2\n",
        "\n",
        "if area_circle_1 == area_circle_2 :\n",
        "  print(\"Both circle has same area\")\n",
        "\n",
        "else:\n",
        "  if area_circle_1 > area_circle_2:\n",
        "    print(f\"Circle 1 has larger area of {area_circle_1} sq mts\")\n",
        "  else:\n",
        "    if area_circle_2 > area_circle_1:\n",
        "      print(f\"Circle 2 has larger area of {area_circle_2} sq mts\")"
      ],
      "metadata": {
        "colab": {
          "base_uri": "https://localhost:8080/"
        },
        "id": "3w7lwniYhp8v",
        "outputId": "e582d80e-79ac-4c3d-dd1b-b044929b9540"
      },
      "execution_count": 4,
      "outputs": [
        {
          "output_type": "stream",
          "name": "stdout",
          "text": [
            "enter the radius of first circle in meters: 26\n",
            "enter the radius of second circle in metere: 62\n",
            "Circle 2 has larger area of 3844 sq mts\n"
          ]
        }
      ]
    },
    {
      "cell_type": "markdown",
      "source": [
        "# **10. Check whether a year is leap year or not. Use nested if...else to solve this problem. A leap year is exactly divisible by 4 except for century years (years ending with 00). The century year is a leap year only if it is perfectly divisible by 400.**"
      ],
      "metadata": {
        "id": "ANZVaT2Bj-Xl"
      }
    },
    {
      "cell_type": "code",
      "source": [
        "leap_year = 1900\n",
        "\n",
        "if leap_year % 4 == 0 :\n",
        "  if leap_year % 400 == 0:\n",
        "    print(\"\"\" It's a leap year\"\"\")\n",
        "  else:\n",
        "   print(\"Not a leap year\")\n",
        "else:\n",
        "  print(\"Its not a leap year\")\n"
      ],
      "metadata": {
        "colab": {
          "base_uri": "https://localhost:8080/"
        },
        "id": "qOrSebFgj2Q6",
        "outputId": "1e83b71b-10d8-4d94-e784-fb0c42fb3424"
      },
      "execution_count": 5,
      "outputs": [
        {
          "output_type": "stream",
          "name": "stdout",
          "text": [
            "Not a leap year\n"
          ]
        }
      ]
    },
    {
      "cell_type": "code",
      "source": [],
      "metadata": {
        "id": "MlHY4m-4lKuw"
      },
      "execution_count": null,
      "outputs": []
    }
  ]
}